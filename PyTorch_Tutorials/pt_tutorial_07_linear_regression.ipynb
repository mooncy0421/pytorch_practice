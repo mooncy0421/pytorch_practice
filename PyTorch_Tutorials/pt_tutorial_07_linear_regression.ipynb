{
 "cells": [
  {
   "cell_type": "code",
   "execution_count": 1,
   "metadata": {},
   "outputs": [],
   "source": [
    "# Typical PyTorch Pipeline\n",
    "# 1) Design model (input, output size, forward pass)\n",
    "# 2) Construct loss and optimizer\n",
    "# 3) training Loop\n",
    "#    - forward pass: compute prediction\n",
    "#    - backward pass: gradients\n",
    "#    - update weights\n",
    "import torch\n",
    "import torch.nn as nn\n",
    "import numpy as np\n",
    "from sklearn import datasets\n",
    "import matplotlib.pyplot as plt"
   ]
  },
  {
   "cell_type": "code",
   "execution_count": 9,
   "metadata": {},
   "outputs": [
    {
     "name": "stdout",
     "output_type": "stream",
     "text": [
      "torch.Size([100])\n",
      "torch.Size([100, 1])\n",
      "epoch: 10 | loss = 4344.846191\n",
      "epoch: 20 | loss = 3241.901855\n",
      "epoch: 30 | loss = 2444.061768\n",
      "epoch: 40 | loss = 1866.300293\n",
      "epoch: 50 | loss = 1447.488770\n",
      "epoch: 60 | loss = 1143.615967\n",
      "epoch: 70 | loss = 922.947998\n",
      "epoch: 80 | loss = 762.575439\n",
      "epoch: 90 | loss = 645.938721\n",
      "epoch: 100 | loss = 561.053162\n"
     ]
    },
    {
     "data": {
      "image/png": "[encoded data removed]",
      "text/plain": [
       "<Figure size 432x288 with 1 Axes>"
      ]
     },
     "metadata": {
      "needs_background": "light"
     },
     "output_type": "display_data"
    }
   ],
   "source": [
    "# 0) prepare data\n",
    "X_numpy, y_numpy = datasets.make_regression(n_samples=100, n_features=1, noise=20, random_state=1)  # regression dataset 생성\n",
    "\n",
    "X = torch.from_numpy(X_numpy.astype(np.float32))\n",
    "y = torch.from_numpy(y_numpy.astype(np.float32))\n",
    "print(y.shape)\n",
    "\n",
    "# Reshape y [100] -> [100, 1]   (row: 100, column:1)\n",
    "y = y.view(y.shape[0], 1)\n",
    "print(y.shape)\n",
    "\n",
    "n_samples, n_features = X.shape\n",
    "# 1) Model\n",
    "input_size = n_features\n",
    "output_size = 1\n",
    "model = nn.Linear(input_size, output_size)\n",
    "\n",
    "# 2) define loss and optimizer\n",
    "# MSELoss\n",
    "criterion = nn.MSELoss()\n",
    "learning_rate = 0.01\n",
    "optimizer = torch.optim.SGD(model.parameters(), lr=learning_rate)\n",
    "\n",
    "# 3) training loop\n",
    "num_epochs = 100\n",
    "for epoch in range(num_epochs):\n",
    "    # Forward pass\n",
    "    y_pred = model(X)\n",
    "    loss = criterion(y_pred, y) # input, target\n",
    "    \n",
    "    # Backward pass\n",
    "    loss.backward()\n",
    "\n",
    "    # Update weight\n",
    "    optimizer.step()\n",
    "    optimizer.zero_grad()\n",
    "\n",
    "    if (epoch+1) % 10 == 0:\n",
    "        print(f'epoch: {epoch+1} | loss = {loss:.6f}')\n",
    "\n",
    "# plot\n",
    "predicted = model(X).detach().numpy()   # Computation Graph에서 해당 연산 tracking되는 것 막기 위해 detach\n",
    "plt.plot(X_numpy, y_numpy, 'ro')    # 실제 데이터의 분포 plot\n",
    "plt.plot(X_numpy, predicted, 'b')   # Linear regression model plot\n",
    "plt.show()"
   ]
  }
 ],
 "metadata": {
  "kernelspec": {
   "display_name": "Python 3.8.13 ('pt_tutorial')",
   "language": "python",
   "name": "python3"
  },
  "language_info": {
   "codemirror_mode": {
    "name": "ipython",
    "version": 3
   },
   "file_extension": ".py",
   "mimetype": "text/x-python",
   "name": "python",
   "nbconvert_exporter": "python",
   "pygments_lexer": "ipython3",
   "version": "3.8.13"
  },
  "orig_nbformat": 4,
  "vscode": {
   "interpreter": {
    "hash": "9056d81a49322299aa21888e3051b56329f6cabafb6903cd933669cf0492c109"
   }
  }
 },
 "nbformat": 4,
 "nbformat_minor": 2
}
