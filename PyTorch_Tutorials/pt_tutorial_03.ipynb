{
 "cells": [
  {
   "cell_type": "code",
   "execution_count": 1,
   "metadata": {},
   "outputs": [],
   "source": [
    "import torch"
   ]
  },
  {
   "cell_type": "code",
   "execution_count": 4,
   "metadata": {},
   "outputs": [
    {
     "name": "stdout",
     "output_type": "stream",
     "text": [
      "tensor([ 0.4144, -0.1820, -0.6953], requires_grad=True)\n"
     ]
    }
   ],
   "source": [
    "x = torch.randn(3, requires_grad=True)  # x에 대한 함수들의 gradient 계산 위해 requires_grad=True 필요\n",
    "print(x)"
   ]
  },
  {
   "cell_type": "code",
   "execution_count": 10,
   "metadata": {},
   "outputs": [
    {
     "name": "stdout",
     "output_type": "stream",
     "text": [
      "tensor([2.4144, 1.8180, 1.3047], grad_fn=<AddBackward0>)\n",
      "tensor([11.6591,  6.6106,  3.4044], grad_fn=<MulBackward0>)\n",
      "tensor(7.2247, grad_fn=<MeanBackward0>)\n",
      "tensor([6.4385, 4.8481, 3.4792])\n"
     ]
    }
   ],
   "source": [
    "y = x + 2   # Computational graph 생성됨\n",
    "print(y)    # y에 backpropagation function AddBackward 생성해줌\n",
    "z = y*y*2\n",
    "print(z)\n",
    "z2 = z.mean()\n",
    "print(z2)\n",
    "\n",
    "z2.backward()   # dz/dx gradient 계산함\n",
    "print(x.grad)   # x의 gradient 출력"
   ]
  },
  {
   "cell_type": "code",
   "execution_count": null,
   "metadata": {},
   "outputs": [],
   "source": [
    "# Gradient tracking 막는 방법\n",
    "\n",
    "# 1. x.requires_grad_(False)\n",
    "x.requires_grad_(False)\n",
    "\n",
    "# x.detach()\n",
    "y = x.detach()  # y에 x와 같은 tensor만들고 requires_grad는 False로 됨\n",
    "\n",
    "# with torch.no_grad():\n",
    "with torch.no_grad():\n",
    "    y = x + 2\n",
    "# with 안에서는 requires_grad가 False됨"
   ]
  },
  {
   "cell_type": "code",
   "execution_count": 14,
   "metadata": {},
   "outputs": [
    {
     "name": "stdout",
     "output_type": "stream",
     "text": [
      "tensor([3., 3., 3., 3.])\n",
      "tensor([6., 6., 6., 6.])\n",
      "tensor([9., 9., 9., 9.])\n"
     ]
    }
   ],
   "source": [
    "# Dummy training example\n",
    "weights = torch.ones(4, requires_grad=True)\n",
    "\n",
    "# Optimization위해 backward할 때 gradient는 비워주지않으면 계속 쌓임\n",
    "for epoch in range(3):\n",
    "    model_output = (weights*3).sum()\n",
    "\n",
    "    model_output.backward()\n",
    "    \n",
    "    print(weights.grad)"
   ]
  },
  {
   "cell_type": "code",
   "execution_count": 16,
   "metadata": {},
   "outputs": [
    {
     "name": "stdout",
     "output_type": "stream",
     "text": [
      "tensor([3., 3., 3., 3.])\n",
      "tensor([3., 3., 3., 3.])\n",
      "tensor([3., 3., 3., 3.])\n"
     ]
    }
   ],
   "source": [
    "# Dummy training example\n",
    "weights = torch.ones(4, requires_grad=True)\n",
    "\n",
    "for epoch in range(3):\n",
    "    model_output = (weights*3).sum()\n",
    "\n",
    "    model_output.backward()\n",
    "    \n",
    "    print(weights.grad)\n",
    "\n",
    "    weights.grad.zero_()    # gradient 초기화\n"
   ]
  },
  {
   "cell_type": "code",
   "execution_count": null,
   "metadata": {},
   "outputs": [],
   "source": [
    "# Dummy training example\n",
    "# 위의 for문과 같은 역할\n",
    "weights = torch.ones(4, requires_grad=True)\n",
    "\n",
    "optimizer = torch.optim.SGD(weights, lr=0.01)\n",
    "optimizer.step()\n",
    "optimizer.zero_grad()"
   ]
  }
 ],
 "metadata": {
  "kernelspec": {
   "display_name": "Python 3.8.13 ('pt_tutorial')",
   "language": "python",
   "name": "python3"
  },
  "language_info": {
   "codemirror_mode": {
    "name": "ipython",
    "version": 3
   },
   "file_extension": ".py",
   "mimetype": "text/x-python",
   "name": "python",
   "nbconvert_exporter": "python",
   "pygments_lexer": "ipython3",
   "version": "3.8.13"
  },
  "orig_nbformat": 4,
  "vscode": {
   "interpreter": {
    "hash": "9056d81a49322299aa21888e3051b56329f6cabafb6903cd933669cf0492c109"
   }
  }
 },
 "nbformat": 4,
 "nbformat_minor": 2
}
