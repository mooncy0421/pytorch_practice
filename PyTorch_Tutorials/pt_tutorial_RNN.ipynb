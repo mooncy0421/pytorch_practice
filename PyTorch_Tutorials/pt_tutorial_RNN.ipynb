{
 "cells": [
  {
   "cell_type": "code",
   "execution_count": 3,
   "metadata": {},
   "outputs": [],
   "source": [
    "# Name Classification\n",
    "# 각 나라별 last name을 입력으로 받고, last name의 각 알파벳들을 RNN의 입력 하나로 사용\n",
    "# util code\n",
    "import io\n",
    "import os\n",
    "import unicodedata\n",
    "import string\n",
    "import glob\n",
    "\n",
    "import torch\n",
    "import random\n",
    "\n",
    "# Alphabet small + capital letters +\".,;'\"\n",
    "ALL_LETTERS = string.ascii_letters + \".,;'\"\n",
    "N_LETTERS = len(ALL_LETTERS)\n",
    "\n",
    "# Unicode string -> plain ASCII\n",
    "# Special Unicode string을 ASCII로 변환함\n",
    "def unicode_to_ascii(s):\n",
    "    return ''.join(\n",
    "        c for c in unicodedata.normalize('NFD', s)\n",
    "        if unicodedata.category(c) != 'Mn'\n",
    "        and c in ALL_LETTERS\n",
    "    )\n",
    "\n",
    "def load_data():\n",
    "    # Build category_lines dictionary, a list of names per language\n",
    "    category_lines = {}\n",
    "    all_categories = []\n",
    "\n",
    "    def find_files(path):\n",
    "        return glob.glob(path)\n",
    "    \n",
    "    # Read file and split into lines\n",
    "    def read_lines(filename):\n",
    "        lines = io.open(filename, encoding='utf-8').read().strip().split('\\n')\n",
    "        return [unicode_to_ascii(line) for line in lines]\n",
    "\n",
    "    for filename in find_files('data/names/*.txt'):\n",
    "        category = os.path.splitext(os.path.basename(filename))[0]\n",
    "        all_categories.append(category)\n",
    "\n",
    "        lines = read_lines(filename)\n",
    "        category_lines[category] = lines\n",
    "\n",
    "    return category_lines, all_categories\n",
    "\n",
    "# Find letter index from all_letters(ex: 'a' == 0)\n",
    "def letter_to_index(letter):\n",
    "    return ALL_LETTERS.find(letter)\n",
    "\n",
    "# For demonstration. Turn letter into <1 x n_letters> Tensor\n",
    "# 알파벳 하나를 one-hot vector로 변환\n",
    "def letter_to_tensor(letter):\n",
    "    tensor = torch.zeros(1, N_LETTERS)\n",
    "    tensor[0][letter_to_index(letter)] = 1\n",
    "    return tensor\n",
    "\n",
    "# Turn line into <line_length x 1 x n_letters>, or an array of one-hot letter vectors\n",
    "# 한 라인의 알파벳들(last_name)을 one_hot vector들의 list로 변환\n",
    "def line_to_tensor(line):\n",
    "    tensor = torch.zeros(len(line), 1, N_LETTERS)\n",
    "    for i, letter in enumerate(line):\n",
    "        tensor[i][0][letter_to_index(letter)] = 1\n",
    "    return tensor\n",
    "\n",
    "def random_training_example(category_lines, all_categories):\n",
    "    def random_choice(a):\n",
    "        random_idx = random.randint(0, len(a)-1)\n",
    "        return a[random_idx]\n",
    "\n",
    "    category = random_choice(all_categories)\n",
    "    line = random_choice(category_lines[category])\n",
    "    category_tensor = torch.tensor([all_categories.index(category)], dtype=torch.long)\n",
    "    line_tensor = line_to_tensor(line)\n",
    "    return category, line, category_tensor, line_tensor"
   ]
  },
  {
   "cell_type": "code",
   "execution_count": 6,
   "metadata": {},
   "outputs": [
    {
     "name": "stdout",
     "output_type": "stream",
     "text": [
      "18\n"
     ]
    }
   ],
   "source": [
    "# RNN\n",
    "import torch\n",
    "import torch.nn as nn\n",
    "import matplotlib.pyplot as plt\n",
    "\n",
    "class RNN(nn.Module):\n",
    "    ## nn.RNN from scratch\n",
    "    def __init__(self, input_size, hidden_size, output_size):\n",
    "        super(RNN, self).__init__()\n",
    "\n",
    "        self.hidden_size = hidden_size\n",
    "        self.i2h = nn.Linear(input_size+hidden_size, hidden_size)    # input to hidden state, combine input and hidden state\n",
    "        self.i2o = nn.Linear(input_size+hidden_size, output_size)\n",
    "        self.softmax = nn.LogSoftmax(dim=1) # Softmax along dimension 1\n",
    "\n",
    "    def forward(self, input_tensor, hidden_tensor):\n",
    "        combined = torch.cat((input_tensor, hidden_tensor), dim=1)\n",
    "\n",
    "        hidden = self.i2h(combined)\n",
    "        output = self.i2o(combined)\n",
    "        output = self.softmax(output)\n",
    "\n",
    "        return output, hidden\n",
    "    # Helper function. Initial hidden state in the beginning\n",
    "    def init_hidden(self):\n",
    "        return torch.zeros(1, self.hidden_size) # 첫 hidden state 정의. 전부 0으로 이루어진 hidden state와 같은 크기의 zero tensor\n",
    "\n",
    "# category_lines: dict. {country: [name]}\n",
    "# all_categories: list. All different countries\n",
    "category_lines, all_categories = load_data()\n",
    "n_categories = len(all_categories)  # 18 different countries\n",
    "print(n_categories)"
   ]
  },
  {
   "cell_type": "code",
   "execution_count": 8,
   "metadata": {},
   "outputs": [
    {
     "name": "stdout",
     "output_type": "stream",
     "text": [
      "torch.Size([1, 18])\n",
      "torch.Size([1, 128])\n"
     ]
    }
   ],
   "source": [
    "n_hidden = 128   # Hyperparameter\n",
    "rnn = RNN(N_LETTERS, n_hidden, n_categories)  # input_size: 가능한 알파벳 수, output_size: number of classes (각기 다른 국가 수)\n",
    "\n",
    "# one step\n",
    "input_tensor = letter_to_tensor('A')\n",
    "hidden_tensor = rnn.init_hidden()\n",
    "\n",
    "output, next_hidden = rnn(input_tensor, hidden_tensor)\n",
    "print(output.size())    # output_size\n",
    "print(next_hidden.size())   # hidden state size"
   ]
  },
  {
   "cell_type": "code",
   "execution_count": 11,
   "metadata": {},
   "outputs": [
    {
     "name": "stdout",
     "output_type": "stream",
     "text": [
      "torch.Size([1, 18])\n",
      "torch.Size([1, 128])\n"
     ]
    }
   ],
   "source": [
    "# Whole sequence(name)\n",
    "input_tensor = line_to_tensor('Albert')\n",
    "hidden_tensor = rnn.init_hidden()\n",
    "\n",
    "output, next_hidden = rnn(input_tensor[0], hidden_tensor)\n",
    "print(output.size())    # output_size\n",
    "print(next_hidden.size())   # hidden state size"
   ]
  },
  {
   "cell_type": "code",
   "execution_count": 13,
   "metadata": {},
   "outputs": [
    {
     "name": "stdout",
     "output_type": "stream",
     "text": [
      "Greek\n"
     ]
    }
   ],
   "source": [
    "# Helper function\n",
    "def category_from_output(output):\n",
    "    category_idx = torch.argmax(output).item()\n",
    "    return all_categories[category_idx]\n",
    "print(category_from_output(output)) # Not trained yet"
   ]
  },
  {
   "cell_type": "code",
   "execution_count": 16,
   "metadata": {},
   "outputs": [
    {
     "name": "stdout",
     "output_type": "stream",
     "text": [
      "4999 4.999 1.7536 Molotov / Russian CORRECT\n",
      "9999 9.998999999999999 2.7887 Houte / Arabic WRONG (Dutch)\n",
      "14999 14.999 2.4910 Bach / Vietnamese WRONG (German)\n",
      "19999 19.999 1.4666 Vinh / Vietnamese CORRECT\n",
      "24999 24.999 0.8976 Ly / Vietnamese CORRECT\n",
      "29999 29.999 2.0682 Blober / German WRONG (Czech)\n",
      "34999 34.999 0.4911 Tatsuko / Japanese CORRECT\n",
      "39999 39.999 0.4726 Kuijpers / Dutch CORRECT\n",
      "44999 44.999 0.7342 Yep / Chinese CORRECT\n",
      "49999 49.999 2.8590 Delgado / Italian WRONG (Portuguese)\n",
      "54999 54.998999999999995 0.6978 Nijo / Japanese CORRECT\n",
      "59999 59.999 0.4972 Valiev / Russian CORRECT\n",
      "64999 64.999 0.3019 Czajka / Polish CORRECT\n",
      "69999 69.999 2.9734 Gaspar / Arabic WRONG (Spanish)\n",
      "74999 74.99900000000001 0.5016 Hwang / Korean CORRECT\n",
      "79999 79.999 3.1745 Russell / Irish WRONG (Scottish)\n",
      "84999 84.999 0.8056 Barros / Portuguese CORRECT\n",
      "89999 89.999 1.8322 Airo / Portuguese WRONG (Italian)\n",
      "94999 94.999 0.1080 Demakis / Greek CORRECT\n",
      "99999 99.99900000000001 0.2289 Millar / Scottish CORRECT\n"
     ]
    },
    {
     "data": {
      "image/png": "[encoded data removed]",
      "text/plain": [
       "<Figure size 432x288 with 1 Axes>"
      ]
     },
     "metadata": {
      "needs_background": "light"
     },
     "output_type": "display_data"
    },
    {
     "name": "stdout",
     "output_type": "stream",
     "text": [
      "\n",
      "> Kim\n",
      "Korean\n",
      "\n",
      "> kim\n",
      "Russian\n",
      "\n",
      "> Lee\n",
      "Chinese\n",
      "\n",
      "> Lei\n",
      "Chinese\n",
      "\n",
      "> Gwang\n",
      "Korean\n",
      "\n",
      "> Heo\n",
      "Chinese\n",
      "\n",
      "> Ye\n",
      "Korean\n",
      "\n",
      "> a\n",
      "Spanish\n",
      "\n",
      "> Kbak\n",
      "Polish\n"
     ]
    }
   ],
   "source": [
    "criterion = nn.NLLLoss()    # Negative Log Likelihood Loss\n",
    "learning_rate = 0.005\n",
    "optimizer = torch.optim.SGD(rnn.parameters(), lr=learning_rate)\n",
    "\n",
    "def train(line_tensor, category_tensor): # get line(whole name) tensor, category tensor (각 line별 class)\n",
    "    hidden = rnn.init_hidden()\n",
    "\n",
    "    for i in range(line_tensor.size()[0]):\n",
    "        output, hidden = rnn(line_tensor[i], hidden)    # 각 line의 알파벳 하나씩 입력으로 받음. hidden은 rnn 통과할 때마다 갱신\n",
    "\n",
    "    loss = criterion(output, category_tensor)\n",
    "    \n",
    "    optimizer.zero_grad()\n",
    "    loss.backward()\n",
    "    optimizer.step()\n",
    "\n",
    "    return output, loss.item()  # output과 계산한 loss의 float value만 return\n",
    "\n",
    "current_loss = 0\n",
    "all_losses = []\n",
    "plot_steps, print_steps = 1000, 5000\n",
    "n_iters = 100000\n",
    "for i in range(n_iters):\n",
    "    category, line, category_tensor, line_tensor = random_training_example(category_lines, all_categories)\n",
    "\n",
    "    output, loss = train(line_tensor, category_tensor)\n",
    "    current_loss += loss\n",
    "\n",
    "    if (i+1) % plot_steps == 0:\n",
    "        all_losses.append(current_loss / plot_steps)\n",
    "        current_loss = 0\n",
    "\n",
    "    if (i+1) % print_steps == 0:\n",
    "        guess = category_from_output(output)\n",
    "        correct = \"CORRECT\" if guess == category else f\"WRONG ({category})\"\n",
    "        print(f\"{i} {i/n_iters*100} {loss:.4f} {line} / {guess} {correct}\")\n",
    "\n",
    "plt.figure()\n",
    "plt.plot(all_losses)\n",
    "plt.show()\n",
    "\n",
    "def predict(input_line):\n",
    "    print(f\"\\n> {input_line}\")\n",
    "    with torch.no_grad():\n",
    "        line_tensor = line_to_tensor(input_line)\n",
    "        hidden = rnn.init_hidden()\n",
    "\n",
    "        for i in range(line_tensor.size()[0]):\n",
    "            output, hidden = rnn(line_tensor[i], hidden)\n",
    "        guess = category_from_output(output)\n",
    "        print(guess)\n",
    "\n",
    "# Save model\n",
    "while True:\n",
    "    sentence = input(\"Input:\")\n",
    "    if sentence == \"quit\":\n",
    "        break\n",
    "\n",
    "    predict(sentence)"
   ]
  },
  {
   "cell_type": "code",
   "execution_count": null,
   "metadata": {},
   "outputs": [],
   "source": []
  }
 ],
 "metadata": {
  "kernelspec": {
   "display_name": "Python 3.8.13 ('pt_tutorial')",
   "language": "python",
   "name": "python3"
  },
  "language_info": {
   "codemirror_mode": {
    "name": "ipython",
    "version": 3
   },
   "file_extension": ".py",
   "mimetype": "text/x-python",
   "name": "python",
   "nbconvert_exporter": "python",
   "pygments_lexer": "ipython3",
   "version": "3.8.13"
  },
  "orig_nbformat": 4,
  "vscode": {
   "interpreter": {
    "hash": "9056d81a49322299aa21888e3051b56329f6cabafb6903cd933669cf0492c109"
   }
  }
 },
 "nbformat": 4,
 "nbformat_minor": 2
}
