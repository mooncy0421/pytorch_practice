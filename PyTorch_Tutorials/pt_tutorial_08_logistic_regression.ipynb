{
 "cells": [
  {
   "cell_type": "code",
   "execution_count": 12,
   "metadata": {},
   "outputs": [],
   "source": [
    "import torch\n",
    "import torch.nn as nn\n",
    "import numpy as np\n",
    "from sklearn import datasets\n",
    "from sklearn.preprocessing import StandardScaler    # To scale features\n",
    "from sklearn.model_selection import train_test_split    # To seperate train/test data"
   ]
  },
  {
   "cell_type": "markdown",
   "metadata": {},
   "source": [
    "## transform() and fit_transform()\n",
    "\n",
    "- **fit_transform()**: 데이터의 mean, variance를 계산하고(`fit()`) 해당 값을 각각 0과 1로 scaling(`transform()`)\n",
    "- **transform()**: `fit()` 과정 없이 미리 계산된 mean, variance를 이용해서 scaling(`transform()`)\n",
    "\n",
    "+) Test data에는 `transform()`만 쓰는 이유\n",
    "Test data에도 fit_transform()을 사용할 경우, 새로 mean, variance를 계산해야 한다.\n",
    "Train data와 모델을 통해 학습된 parameter를 test data에도 똑같이 적용하기 위해 test data에서는 `fit_transform()`으로 새로 mean, variance를 계산하지 않음."
   ]
  },
  {
   "cell_type": "code",
   "execution_count": 13,
   "metadata": {},
   "outputs": [
    {
     "name": "stdout",
     "output_type": "stream",
     "text": [
      "epoch: 10 | loss: 0.5204\n",
      "epoch: 20 | loss: 0.4418\n",
      "epoch: 30 | loss: 0.3891\n",
      "epoch: 40 | loss: 0.3512\n",
      "epoch: 50 | loss: 0.3225\n",
      "epoch: 60 | loss: 0.2997\n",
      "epoch: 70 | loss: 0.2813\n",
      "epoch: 80 | loss: 0.2659\n",
      "epoch: 90 | loss: 0.2528\n",
      "epoch: 100 | loss: 0.2415\n",
      "epoch: 110 | loss: 0.2317\n",
      "epoch: 120 | loss: 0.2230\n",
      "epoch: 130 | loss: 0.2152\n",
      "epoch: 140 | loss: 0.2082\n",
      "epoch: 150 | loss: 0.2019\n",
      "epoch: 160 | loss: 0.1962\n",
      "epoch: 170 | loss: 0.1909\n",
      "epoch: 180 | loss: 0.1860\n",
      "epoch: 190 | loss: 0.1816\n",
      "epoch: 200 | loss: 0.1774\n",
      "Accuracy: 0.9123\n"
     ]
    }
   ],
   "source": [
    "# 0) Prepare data\n",
    "# binary classification to predict cancer based on input features\n",
    "bc = datasets.load_breast_cancer()\n",
    "X, y = bc.data, bc.target\n",
    "\n",
    "n_samples, n_features = X.shape # 569 samples / 30 features\n",
    "\n",
    "X_train, X_test, y_train, y_test = train_test_split(X, y, test_size=0.2, random_state=1234)\n",
    "\n",
    "# Scale\n",
    "# Make features to have 0 mean unit variance\n",
    "# Always recommend to do when deal with logistic regression\n",
    "sc = StandardScaler()\n",
    "X_train = sc.fit_transform(X_train) # Scale data\n",
    "X_test = sc.transform(X_test)\n",
    "\n",
    "X_train = torch.from_numpy(X_train.astype(np.float32))  # X_train은 원래 double type이라 error 없애기위해 astype\n",
    "X_test = torch.from_numpy(X_test.astype(np.float32))\n",
    "y_train = torch.from_numpy(y_train.astype(np.float32))\n",
    "y_test = torch.from_numpy(y_test.astype(np.float32))\n",
    "\n",
    "y_train = y_train.view(y_train.shape[0], 1)\n",
    "y_test = y_test.view(y_test.shape[0], 1)\n",
    "\n",
    "# 1) Model\n",
    "# f = wx + b, sigmoid function at the end (logistic regression)\n",
    "class LogisticRegression(nn.Module):\n",
    "    def __init__(self, n_input_features):\n",
    "        super(LogisticRegression, self).__init__()\n",
    "        self.linear = nn.Linear(n_input_features, 1)    # input_size: n_input_features, output_size: 1\n",
    "\n",
    "    def forward(self, x):\n",
    "        y_pred = torch.sigmoid(self.linear(x))\n",
    "        return y_pred\n",
    "\n",
    "model = LogisticRegression(n_features)\n",
    "\n",
    "# 2) loss and optimizer\n",
    "learning_rate = 0.01\n",
    "criterion = nn.BCELoss()    # Binary Cross Entropy Loss\n",
    "optimizer = torch.optim.SGD(model.parameters(), lr=learning_rate)\n",
    "\n",
    "# 3) training loop\n",
    "n_epochs = 200\n",
    "for epoch in range(n_epochs):\n",
    "    # Forward Pass\n",
    "    y_pred = model(X_train)\n",
    "    loss = criterion(y_pred, y_train)\n",
    "\n",
    "    # Backward Pass\n",
    "    loss.backward()\n",
    "\n",
    "    # Update weights\n",
    "    optimizer.step()\n",
    "    optimizer.zero_grad()\n",
    "\n",
    "    if (epoch+1) % 10 == 0:\n",
    "        print(f'epoch: {epoch+1} | loss: {loss.item():.4f}')\n",
    "\n",
    "with torch.no_grad():\n",
    "    y_pred = model(X_test)\n",
    "    y_pred_cls = y_pred.round() # 0~1 사이 값을 0/1로 반올림. torch.no_grad안하면 round tracking함\n",
    "    accuracy = y_pred_cls.eq(y_test).sum() / float(y_test.shape[0])\n",
    "    print(f'Accuracy: {accuracy:.4f}')"
   ]
  },
  {
   "cell_type": "code",
   "execution_count": null,
   "metadata": {},
   "outputs": [],
   "source": []
  }
 ],
 "metadata": {
  "kernelspec": {
   "display_name": "Python 3.8.13 ('pt_tutorial')",
   "language": "python",
   "name": "python3"
  },
  "language_info": {
   "codemirror_mode": {
    "name": "ipython",
    "version": 3
   },
   "file_extension": ".py",
   "mimetype": "text/x-python",
   "name": "python",
   "nbconvert_exporter": "python",
   "pygments_lexer": "ipython3",
   "version": "3.8.13"
  },
  "orig_nbformat": 4,
  "vscode": {
   "interpreter": {
    "hash": "9056d81a49322299aa21888e3051b56329f6cabafb6903cd933669cf0492c109"
   }
  }
 },
 "nbformat": 4,
 "nbformat_minor": 2
}
