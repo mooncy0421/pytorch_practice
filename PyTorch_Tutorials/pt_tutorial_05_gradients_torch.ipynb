{
 "cells": [
  {
   "cell_type": "code",
   "execution_count": 1,
   "metadata": {},
   "outputs": [],
   "source": [
    "# import numpy as np\n",
    "import torch"
   ]
  },
  {
   "cell_type": "code",
   "execution_count": 5,
   "metadata": {},
   "outputs": [],
   "source": [
    "# f = wx    Linear Regression without bias\n",
    "# f = 2x    Weights must be 2\n",
    "\n",
    "# X = np.array([1, 2, 3, 4], dtype=np.float32)    # Example data\n",
    "X = torch.tensor([1, 2, 3, 4], dtype=torch.float32)\n",
    "# y = np.array([2, 4, 6, 8], dtype=np.float32)    # Example data target\n",
    "y = torch.tensor([2, 4, 6, 8], dtype=torch.float32)\n",
    "\n",
    "# weight w의 gradient 구하기 위해 requires_grad=True로 설정\n",
    "# w = 0.0\n",
    "w = torch.tensor(0.0, dtype=torch.float32, requires_grad=True)\n",
    "\n",
    "# TODO: model prediction\n",
    "def forward(x):\n",
    "    return w * x\n",
    "\n",
    "# TODO: loss = MSE (Mean Squared Error)\n",
    "def loss(y, y_pred):    # y_pred: model output\n",
    "    return ((y_pred-y)**2).mean()   # Square의 Mean을 Loss로 함\n",
    "\n",
    "# # TODO: gradients\n",
    "# # MSE = 1/N * (w*x - y)**2\n",
    "# # dJ/dw = 1/N * 2*x (w*x - y)       J: objective function\n",
    "# def gradient(x, y, y_pred):\n",
    "#     return np.dot(2*x, y_pred-y).mean()    # dJ/dw = 1/N * 2*x (w*x - y)"
   ]
  },
  {
   "cell_type": "code",
   "execution_count": 6,
   "metadata": {},
   "outputs": [
    {
     "name": "stdout",
     "output_type": "stream",
     "text": [
      "Prediction before training: f(5) = 0.000\n",
      "epoch 1: w = 0.300, loss = 30.00000000\n",
      "epoch 11: w = 1.665, loss = 1.16278565\n",
      "epoch 21: w = 1.934, loss = 0.04506890\n",
      "epoch 31: w = 1.987, loss = 0.00174685\n",
      "epoch 41: w = 1.997, loss = 0.00006770\n",
      "epoch 51: w = 1.999, loss = 0.00000262\n",
      "epoch 61: w = 2.000, loss = 0.00000010\n",
      "epoch 71: w = 2.000, loss = 0.00000000\n",
      "epoch 81: w = 2.000, loss = 0.00000000\n",
      "epoch 91: w = 2.000, loss = 0.00000000\n",
      "Prediction after training: f(5) = 10.000\n"
     ]
    }
   ],
   "source": [
    "print(f'Prediction before training: f(5) = {forward(5):.3f}')\n",
    "\n",
    "# Training\n",
    "learning_rate = 0.01\n",
    "n_iters = 100\n",
    "\n",
    "for epoch in range(n_iters):\n",
    "    # Prediction (== forward pass)\n",
    "    y_pred = forward(X)\n",
    "    \n",
    "    # loss\n",
    "    l = loss(y, y_pred)\n",
    "\n",
    "    # Calculate gradients(== backward pass)\n",
    "    # dw = gradient(X, y, y_pred)\n",
    "    l.backward()    # Calculate dl/dw\n",
    "\n",
    "    # Update weights (Gradient Descent)\n",
    "    with torch.no_grad():\n",
    "        w -= learning_rate * w.grad     # w의 gradient에 learning rate 곱해서 빼는 것 (==gradient descent)\n",
    "\n",
    "    # zero gradient\n",
    "    w.grad.zero_()\n",
    "    if epoch % 10 == 0:\n",
    "        print(f'epoch {epoch+1}: w = {w:.3f}, loss = {l:.8f}')\n",
    "\n",
    "print(f'Prediction after training: f(5) = {forward(5):.3f}')"
   ]
  }
 ],
 "metadata": {
  "kernelspec": {
   "display_name": "Python 3.8.13 ('pt_tutorial')",
   "language": "python",
   "name": "python3"
  },
  "language_info": {
   "codemirror_mode": {
    "name": "ipython",
    "version": 3
   },
   "file_extension": ".py",
   "mimetype": "text/x-python",
   "name": "python",
   "nbconvert_exporter": "python",
   "pygments_lexer": "ipython3",
   "version": "3.8.13"
  },
  "orig_nbformat": 4,
  "vscode": {
   "interpreter": {
    "hash": "9056d81a49322299aa21888e3051b56329f6cabafb6903cd933669cf0492c109"
   }
  }
 },
 "nbformat": 4,
 "nbformat_minor": 2
}
