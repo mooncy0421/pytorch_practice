{
 "cells": [
  {
   "cell_type": "code",
   "execution_count": 27,
   "metadata": {},
   "outputs": [],
   "source": [
    "import torch\n",
    "import numpy as np"
   ]
  },
  {
   "cell_type": "code",
   "execution_count": 3,
   "metadata": {},
   "outputs": [],
   "source": [
    "x = torch.empty(2, 3)    # torch.empty(size)\n",
    "x = torch.rand(2, 3)     # torch.rand(size)\n",
    "x = torch.zeros(2, 3)    # torch.zeros(size)\n",
    "x = torch.tensor([2.5, 0.11])   # torch.tensor(list)"
   ]
  },
  {
   "cell_type": "code",
   "execution_count": 5,
   "metadata": {},
   "outputs": [
    {
     "name": "stdout",
     "output_type": "stream",
     "text": [
      "torch.Size([2])\n",
      "torch.float32\n"
     ]
    }
   ],
   "source": [
    "print(x.size())\n",
    "print(x.dtype)"
   ]
  },
  {
   "cell_type": "code",
   "execution_count": 6,
   "metadata": {},
   "outputs": [
    {
     "name": "stdout",
     "output_type": "stream",
     "text": [
      "tensor([[0.3352, 0.9633],\n",
      "        [0.8212, 0.1932]])\n",
      "tensor([[0.5796, 0.8154],\n",
      "        [0.3823, 0.4306]])\n",
      "tensor([[0.9148, 1.7788],\n",
      "        [1.2036, 0.6237]])\n"
     ]
    }
   ],
   "source": [
    "x = torch.rand(2,2)\n",
    "y = torch.rand(2,2)\n",
    "print(x)\n",
    "print(y)\n",
    "z = x + y\n",
    "z = torch.add(x, y) # z = x + y와 같음\n",
    "print(z)"
   ]
  },
  {
   "cell_type": "code",
   "execution_count": 8,
   "metadata": {},
   "outputs": [
    {
     "data": {
      "text/plain": [
       "tensor([[1.2500, 2.7421],\n",
       "        [2.0248, 0.8169]])"
      ]
     },
     "execution_count": 8,
     "metadata": {},
     "output_type": "execute_result"
    }
   ],
   "source": [
    "y.add_(x)   # In-place operation, y 변경"
   ]
  },
  {
   "cell_type": "code",
   "execution_count": 9,
   "metadata": {},
   "outputs": [
    {
     "name": "stdout",
     "output_type": "stream",
     "text": [
      "tensor([[-0.9148, -1.7788],\n",
      "        [-1.2036, -0.6237]])\n"
     ]
    }
   ],
   "source": [
    "z = x - y\n",
    "z = torch.sub(x,y)\n",
    "print(z)\n",
    "y.sub_(x)"
   ]
  },
  {
   "cell_type": "code",
   "execution_count": 11,
   "metadata": {},
   "outputs": [
    {
     "name": "stdout",
     "output_type": "stream",
     "text": [
      "tensor([[0.3066, 1.7135],\n",
      "        [0.9884, 0.1205]])\n"
     ]
    },
    {
     "data": {
      "text/plain": [
       "tensor([[0.3066, 1.7135],\n",
       "        [0.9884, 0.1205]])"
      ]
     },
     "execution_count": 11,
     "metadata": {},
     "output_type": "execute_result"
    }
   ],
   "source": [
    "z = x * y\n",
    "z = torch.mul(x,y)\n",
    "print(z)\n",
    "y.mul_(x)"
   ]
  },
  {
   "cell_type": "code",
   "execution_count": 13,
   "metadata": {},
   "outputs": [
    {
     "name": "stdout",
     "output_type": "stream",
     "text": [
      "tensor([[0.3664, 0.5416],\n",
      "        [0.6823, 0.3097]])\n"
     ]
    },
    {
     "data": {
      "text/plain": [
       "tensor([[2.7289, 1.8465],\n",
       "        [1.4656, 3.2290]])"
      ]
     },
     "execution_count": 13,
     "metadata": {},
     "output_type": "execute_result"
    }
   ],
   "source": [
    "z = x / y\n",
    "z = torch.div(x, y)\n",
    "print(z)\n",
    "y.div_(x)"
   ]
  },
  {
   "cell_type": "code",
   "execution_count": 21,
   "metadata": {},
   "outputs": [
    {
     "name": "stdout",
     "output_type": "stream",
     "text": [
      "tensor([[0.8094, 0.1932, 0.2566],\n",
      "        [0.9135, 0.6726, 0.6230],\n",
      "        [0.5812, 0.8720, 0.4154],\n",
      "        [0.9836, 0.5149, 0.6840],\n",
      "        [0.5033, 0.3748, 0.4860]])\n",
      "tensor([0.1932, 0.6726, 0.8720, 0.5149, 0.3748])\n",
      "tensor([0.8094, 0.1932, 0.2566])\n",
      "tensor([[0.8094, 0.1932, 0.2566],\n",
      "        [0.9135, 0.6726, 0.6230]])\n"
     ]
    }
   ],
   "source": [
    "x = torch.rand(5,3)\n",
    "print(x)\n",
    "print(x[:,1])   # 모든 행, 2번째 열만\n",
    "print(x[0, :])  # 첫번째 행, 모든 열\n",
    "print(x[0:2, :]) # 0~1 행, 모든 열"
   ]
  },
  {
   "cell_type": "code",
   "execution_count": 26,
   "metadata": {},
   "outputs": [
    {
     "name": "stdout",
     "output_type": "stream",
     "text": [
      "tensor([[0.0763, 0.1896, 0.5657, 0.8755],\n",
      "        [0.9608, 0.3528, 0.3295, 0.1030],\n",
      "        [0.8328, 0.8356, 0.5557, 0.8558],\n",
      "        [0.6118, 0.7808, 0.3534, 0.9279]])\n",
      "tensor([[0.0763, 0.1896, 0.5657, 0.8755, 0.9608, 0.3528, 0.3295, 0.1030],\n",
      "        [0.8328, 0.8356, 0.5557, 0.8558, 0.6118, 0.7808, 0.3534, 0.9279]])\n",
      "tensor([0.0763, 0.1896, 0.5657, 0.8755, 0.9608, 0.3528, 0.3295, 0.1030, 0.8328,\n",
      "        0.8356, 0.5557, 0.8558, 0.6118, 0.7808, 0.3534, 0.9279])\n"
     ]
    }
   ],
   "source": [
    "x = torch.rand(4,4)\n",
    "print(x)\n",
    "y = x.view(-1, 8)   # 전체 크기 16을, r행 8열로 reshape, 이 때 r이 -1이므로 다른 수에 의해 결정 (여기서는 2)\n",
    "print(y)\n",
    "y = x.view(16)\n",
    "print(y)"
   ]
  },
  {
   "cell_type": "code",
   "execution_count": 35,
   "metadata": {},
   "outputs": [
    {
     "name": "stdout",
     "output_type": "stream",
     "text": [
      "tensor([1., 1., 1., 1., 1.])\n",
      "[1. 1. 1. 1. 1.]\n",
      "tensor([2., 2., 2., 2., 2.])\n",
      "[2. 2. 2. 2. 2.]\n"
     ]
    }
   ],
   "source": [
    "a = torch.ones(5)\n",
    "print(a)\n",
    "b = a.numpy()   # tensor a를 numpy array로 변경\n",
    "print(b)\n",
    "\n",
    "a.add_(1)   # 위 처럼 만든 array는 tensor의 연산에 영향 받음\n",
    "print(a)\n",
    "print(b)"
   ]
  },
  {
   "cell_type": "code",
   "execution_count": 40,
   "metadata": {},
   "outputs": [
    {
     "name": "stdout",
     "output_type": "stream",
     "text": [
      "[1. 1. 1. 1. 1.]\n",
      "tensor([1., 1., 1., 1., 1.], dtype=torch.float64)\n",
      "[2. 2. 2. 2. 2.]\n",
      "tensor([2., 2., 2., 2., 2.], dtype=torch.float64)\n"
     ]
    }
   ],
   "source": [
    "a = np.ones(5)\n",
    "print(a)\n",
    "b = torch.from_numpy(a)\n",
    "print(b)\n",
    "\n",
    "a += 1\n",
    "print(a)\n",
    "print(b)"
   ]
  },
  {
   "cell_type": "code",
   "execution_count": 45,
   "metadata": {},
   "outputs": [
    {
     "data": {
      "text/plain": [
       "device(type='cpu')"
      ]
     },
     "execution_count": 45,
     "metadata": {},
     "output_type": "execute_result"
    }
   ],
   "source": [
    "torch.cuda.is_available()\n",
    "b.device"
   ]
  },
  {
   "cell_type": "code",
   "execution_count": 47,
   "metadata": {},
   "outputs": [
    {
     "name": "stdout",
     "output_type": "stream",
     "text": [
      "tensor([1., 1., 1., 1., 1.], requires_grad=True)\n"
     ]
    }
   ],
   "source": [
    "x = torch.ones(5, requires_grad=True)\n",
    "print(x)"
   ]
  }
 ],
 "metadata": {
  "kernelspec": {
   "display_name": "Python 3.8.13 ('pt_tutorial')",
   "language": "python",
   "name": "python3"
  },
  "language_info": {
   "codemirror_mode": {
    "name": "ipython",
    "version": 3
   },
   "file_extension": ".py",
   "mimetype": "text/x-python",
   "name": "python",
   "nbconvert_exporter": "python",
   "pygments_lexer": "ipython3",
   "version": "3.8.13"
  },
  "orig_nbformat": 4,
  "vscode": {
   "interpreter": {
    "hash": "9056d81a49322299aa21888e3051b56329f6cabafb6903cd933669cf0492c109"
   }
  }
 },
 "nbformat": 4,
 "nbformat_minor": 2
}
