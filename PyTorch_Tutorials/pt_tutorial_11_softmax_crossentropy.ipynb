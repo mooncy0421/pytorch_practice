{
 "cells": [
  {
   "cell_type": "code",
   "execution_count": 2,
   "metadata": {},
   "outputs": [],
   "source": [
    "import torch\n",
    "import torch.nn as nn\n",
    "import numpy as np"
   ]
  },
  {
   "cell_type": "markdown",
   "metadata": {},
   "source": [
    "# Softmax"
   ]
  },
  {
   "cell_type": "code",
   "execution_count": 4,
   "metadata": {},
   "outputs": [
    {
     "name": "stdout",
     "output_type": "stream",
     "text": [
      "softmax numpy: [0.65900114 0.24243297 0.09856589]\n"
     ]
    }
   ],
   "source": [
    "def softmax(x):\n",
    "    return np.exp(x) / np.sum(np.exp(x), axis=0)\n",
    "\n",
    "x = np.array([2.0, 1.0, 0.1])\n",
    "outputs = softmax(x)\n",
    "print('softmax numpy:', outputs)"
   ]
  },
  {
   "cell_type": "code",
   "execution_count": 5,
   "metadata": {},
   "outputs": [
    {
     "name": "stdout",
     "output_type": "stream",
     "text": [
      "softmax torch:  tensor([0.6590, 0.2424, 0.0986])\n"
     ]
    }
   ],
   "source": [
    "x = torch.tensor([2.0, 1.0, 0.1])\n",
    "outputs = torch.softmax(x, dim=0)\n",
    "print('softmax torch: ', outputs)"
   ]
  },
  {
   "cell_type": "markdown",
   "metadata": {},
   "source": [
    "# Cross-Entropy Loss"
   ]
  },
  {
   "cell_type": "code",
   "execution_count": 7,
   "metadata": {},
   "outputs": [
    {
     "name": "stdout",
     "output_type": "stream",
     "text": [
      "Loss1 numpy: 0.35667494393873245\n",
      "Loss2 numpy: 2.3025850929940455\n"
     ]
    }
   ],
   "source": [
    "# numpy cross entropy\n",
    "def cross_entropy(actual, predict):\n",
    "    loss = -np.sum(actual * np.log(predict))\n",
    "    return loss\n",
    "\n",
    "Y = np.array([1, 0, 0]) # one-hot encoded labels\n",
    "\n",
    "# Y_pred: probabilities\n",
    "Y_pred_good = np.array([0.7, 0.2, 0.1])\n",
    "Y_pred_bad = np.array([0.1, 0.3, 0.6])\n",
    "l1 = cross_entropy(Y, Y_pred_good)\n",
    "l2 = cross_entropy(Y, Y_pred_bad)\n",
    "print(f'Loss1 numpy: {l1}')\n",
    "print(f'Loss2 numpy: {l2}')"
   ]
  },
  {
   "cell_type": "code",
   "execution_count": 9,
   "metadata": {},
   "outputs": [
    {
     "name": "stdout",
     "output_type": "stream",
     "text": [
      "Loss1 torch: 0.4170299470424652\n",
      "Loss2 torch: 1.840616226196289\n",
      "tensor([0]) tensor([1])\n"
     ]
    }
   ],
   "source": [
    "# pytorch cross entropy\n",
    "# nn.CrossEntropyLoss : nn.LogSoftmax + nn.NLLLoss (negative log likelihood loss)\n",
    "# 마지막에 softmax 넣을 필요 없음\n",
    "# Y -> class labels (not one-hot), 정답 class label값만 넣어줌. one-hot으로 정답 class label만 1로 할 필요 없음\n",
    "# Y_pred -> raw scores(logits) not softmax probabilities\n",
    "loss = nn.CrossEntropyLoss()\n",
    "\n",
    "Y = torch.tensor([0])   # Correct last label, not one-hot\n",
    "# n_samples * n_classes = 1 * 3\n",
    "Y_pred_good = torch.tensor([[2.0, 1.0, 0.1]])   # raw scores\n",
    "Y_pred_bad = torch.tensor([[0.5, 2.0, 0.3]])\n",
    "\n",
    "l1 = loss(Y_pred_good, Y)\n",
    "l2 = loss(Y_pred_bad, Y)\n",
    "\n",
    "print(f'Loss1 torch: {l1.item()}')\n",
    "print(f'Loss2 torch: {l2.item()}')\n",
    "\n",
    "_, predictions1 = torch.max(Y_pred_good, 1)     # Show highest score class\n",
    "_, predictions2 = torch.max(Y_pred_bad, 1)\n",
    "print(predictions1, predictions2)"
   ]
  },
  {
   "cell_type": "code",
   "execution_count": 12,
   "metadata": {},
   "outputs": [
    {
     "name": "stdout",
     "output_type": "stream",
     "text": [
      "Loss1 torch: 0.3018244206905365\n",
      "Loss2 torch: 1.601824402809143\n",
      "tensor([2, 0, 1]) tensor([0, 2, 1])\n"
     ]
    }
   ],
   "source": [
    "# 3 samples\n",
    "Y = torch.tensor([2, 0, 1])\n",
    "Y_pred_good = torch.tensor([[0.1, 1.0, 2.1], [2.0, 1.0, 0.1], [0.1, 3.0, 0.1]])\n",
    "Y_pred_bad = torch.tensor([[2.0, 1.0, 0.1], [0.1, 1.0, 2.1], [0.1, 3.0, 0.1]])\n",
    "\n",
    "l1 = loss(Y_pred_good, Y)\n",
    "l2 = loss(Y_pred_bad, Y)\n",
    "\n",
    "print(f'Loss1 torch: {l1.item()}')\n",
    "print(f'Loss2 torch: {l2.item()}')\n",
    "\n",
    "_, predictions1 = torch.max(Y_pred_good, 1)     # Show highest score class\n",
    "_, predictions2 = torch.max(Y_pred_bad, 1)\n",
    "print(predictions1, predictions2)"
   ]
  },
  {
   "cell_type": "markdown",
   "metadata": {},
   "source": [
    "# Simple Neural Net"
   ]
  },
  {
   "cell_type": "code",
   "execution_count": null,
   "metadata": {},
   "outputs": [],
   "source": [
    "# Multiclass problem\n",
    "class NeuralNetMulti(nn.Module):\n",
    "    def __init__(self, input_size, hidden_size, num_classes):\n",
    "        super(NeuralNetMulti, self).__init__()\n",
    "        self.linear1 =  nn.Linear(input_size, hidden_size)\n",
    "        self.relu = nn.ReLU()\n",
    "        self.linear2 = nn.Linear(hidden_size, num_classes)\n",
    "\n",
    "    def forward(self, x):\n",
    "        out = self.linear1(x)\n",
    "        out = self.relu(out)\n",
    "        out = self.linear2(x)\n",
    "        # No Softmax here\n",
    "        return out\n",
    "\n",
    "model = NeuralNetMulti(input_size=28*28, hidden_size=5, num_classes=3)\n",
    "criterion = nn.CrossEntropyLoss()   # Apply Softmax here"
   ]
  },
  {
   "cell_type": "code",
   "execution_count": null,
   "metadata": {},
   "outputs": [],
   "source": [
    "# Binary Classification Problem\n",
    "# Linear layer 후 출력 1개만 나옴\n",
    "# Softmax 없이 Sigmoid 적용\n",
    "# nn.BCELoss(), Sigmoid 마지막에 추가해야함\n",
    "# Multiclass problem\n",
    "class NeuralNetBinary(nn.Module):\n",
    "    def __init__(self, input_size, hidden_size):\n",
    "        super(NeuralNetBinary, self).__init__()\n",
    "        self.linear1 =  nn.Linear(input_size, hidden_size)\n",
    "        self.relu = nn.ReLU()\n",
    "        self.linear2 = nn.Linear(hidden_size, 1)\n",
    "\n",
    "    def forward(self, x):\n",
    "        out = self.linear1(x)\n",
    "        out = self.relu(out)\n",
    "        out = self.linear2(x)\n",
    "        y_pred = torch.sigmoid(out) # Apply Sigmoid here\n",
    "        return y_pred\n",
    "\n",
    "model = NeuralNetBinary(input_size=28*28, hidden_size=5)\n",
    "criterion = nn.BCELoss()   # No sigmoid here"
   ]
  }
 ],
 "metadata": {
  "kernelspec": {
   "display_name": "Python 3.8.13 ('pt_tutorial')",
   "language": "python",
   "name": "python3"
  },
  "language_info": {
   "codemirror_mode": {
    "name": "ipython",
    "version": 3
   },
   "file_extension": ".py",
   "mimetype": "text/x-python",
   "name": "python",
   "nbconvert_exporter": "python",
   "pygments_lexer": "ipython3",
   "version": "3.8.13"
  },
  "orig_nbformat": 4,
  "vscode": {
   "interpreter": {
    "hash": "9056d81a49322299aa21888e3051b56329f6cabafb6903cd933669cf0492c109"
   }
  }
 },
 "nbformat": 4,
 "nbformat_minor": 2
}
