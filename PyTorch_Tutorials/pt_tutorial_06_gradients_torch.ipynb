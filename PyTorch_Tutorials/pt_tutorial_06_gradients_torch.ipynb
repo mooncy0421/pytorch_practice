{
 "cells": [
  {
   "cell_type": "markdown",
   "metadata": {},
   "source": [
    "# Loss & Optimizer"
   ]
  },
  {
   "cell_type": "code",
   "execution_count": 3,
   "metadata": {},
   "outputs": [],
   "source": [
    "# Typical PyTorch Pipeline\n",
    "# 1) Design model (input, output size, forward pass)\n",
    "# 2) Construct loss and optimizer\n",
    "# 3) training Loop\n",
    "#    - forward pass: compute prediction\n",
    "#    - backward pass: gradients\n",
    "#    - update weights\n",
    "\n",
    "import torch\n",
    "import torch.nn as nn"
   ]
  },
  {
   "cell_type": "code",
   "execution_count": 4,
   "metadata": {},
   "outputs": [],
   "source": [
    "# f = wx    Linear Regression without bias\n",
    "# f = 2x    Weights must be 2\n",
    "X = torch.tensor([1, 2, 3, 4], dtype=torch.float32)\n",
    "y = torch.tensor([2, 4, 6, 8], dtype=torch.float32)\n",
    "\n",
    "# weight w의 gradient 구하기 위해 requires_grad=True로 설정\n",
    "w = torch.tensor(0.0, dtype=torch.float32, requires_grad=True)\n",
    "\n",
    "# TODO: model prediction\n",
    "def forward(x):\n",
    "    return w * x\n",
    "\n",
    "# TODO: loss = MSE (Mean Squared Error)\n",
    "# def loss(y, y_pred):    # y_pred: model output\n",
    "#     return ((y_pred-y)**2).mean()   # Square의 Mean을 Loss로 함"
   ]
  },
  {
   "cell_type": "code",
   "execution_count": 5,
   "metadata": {},
   "outputs": [
    {
     "name": "stdout",
     "output_type": "stream",
     "text": [
      "Prediction before training: f(5) = 0.000\n",
      "epoch 1: w = 0.300, loss = 30.00000000\n",
      "epoch 11: w = 1.665, loss = 1.16278565\n",
      "epoch 21: w = 1.934, loss = 0.04506890\n",
      "epoch 31: w = 1.987, loss = 0.00174685\n",
      "epoch 41: w = 1.997, loss = 0.00006770\n",
      "epoch 51: w = 1.999, loss = 0.00000262\n",
      "epoch 61: w = 2.000, loss = 0.00000010\n",
      "epoch 71: w = 2.000, loss = 0.00000000\n",
      "epoch 81: w = 2.000, loss = 0.00000000\n",
      "epoch 91: w = 2.000, loss = 0.00000000\n",
      "Prediction after training: f(5) = 10.000\n"
     ]
    }
   ],
   "source": [
    "print(f'Prediction before training: f(5) = {forward(5):.3f}')\n",
    "\n",
    "# Training\n",
    "learning_rate = 0.01\n",
    "n_iters = 100\n",
    "\n",
    "loss = nn.MSELoss() # pytorch Mean Square Error\n",
    "optimizer = torch.optim.SGD([w], lr=learning_rate)   # Stocastic Gradient Descent: optimizer할 model parameter, learning_rate 전달\n",
    "\n",
    "for epoch in range(n_iters):\n",
    "    # Prediction (== forward pass)\n",
    "    y_pred = forward(X)\n",
    "    \n",
    "    # loss\n",
    "    l = loss(y, y_pred)\n",
    "\n",
    "    # Calculate gradients(== backward pass)\n",
    "    l.backward()    # Calculate dl/dw\n",
    "\n",
    "    # Update weights (Gradient Descent)\n",
    "    # with torch.no_grad():\n",
    "    #     w -= learning_rate * w.grad     # w의 gradient에 learning rate 곱해서 빼는 것 (==gradient descent)\n",
    "    optimizer.step()\n",
    "    \n",
    "    # zero gradient\n",
    "    # w.grad.zero_()\n",
    "    optimizer.zero_grad()\n",
    "    if epoch % 10 == 0:\n",
    "        print(f'epoch {epoch+1}: w = {w:.3f}, loss = {l:.8f}')\n",
    "\n",
    "print(f'Prediction after training: f(5) = {forward(5):.3f}')"
   ]
  },
  {
   "cell_type": "markdown",
   "metadata": {},
   "source": [
    "# Model"
   ]
  },
  {
   "cell_type": "code",
   "execution_count": 17,
   "metadata": {},
   "outputs": [
    {
     "name": "stdout",
     "output_type": "stream",
     "text": [
      "4 1\n"
     ]
    }
   ],
   "source": [
    "# f = wx    Linear Regression without bias\n",
    "# f = 2x    Weights must be 2\n",
    "X = torch.tensor([[1], [2], [3], [4]], dtype=torch.float32)   # 2D array로 변경해야됨 (row: num_sample, column: num_features)\n",
    "y = torch.tensor([[2], [4], [6], [8]], dtype=torch.float32)\n",
    "\n",
    "n_samples, n_features = X.shape\n",
    "print(n_samples, n_features)\n",
    "\n",
    "input_size = n_features\n",
    "output_size = n_features\n",
    "# weight w의 gradient 구하기 위해 requires_grad=True로 설정\n",
    "# w = torch.tensor(0.0, dtype=torch.float32, requires_grad=True)\n",
    "\n",
    "# # TODO: model prediction\n",
    "# def forward(x):\n",
    "#     return w * x\n",
    "\n",
    "# 1 Layer model\n",
    "model = nn.Linear(input_size, output_size)\n",
    "\n",
    "# Simple lInearRegression model class\n",
    "# LinearRegression == nn.Linear\n",
    "class LinearRegression(nn.Module):\n",
    "    def __init__(self, input_dim, output_dim):\n",
    "        super(LinearRegression, self).__init__()\n",
    "        # Define Layers\n",
    "        self.lin = nn.Linear(input_dim, output_dim)\n",
    "\n",
    "    def forward(self, x):\n",
    "        return self.lin(x)\n",
    "\n",
    "model = LinearRegression(input_size, output_size)"
   ]
  },
  {
   "cell_type": "code",
   "execution_count": 18,
   "metadata": {},
   "outputs": [
    {
     "name": "stdout",
     "output_type": "stream",
     "text": [
      "Prediction before training: f(5) = 2.712\n",
      "epoch 1: w = 0.574, loss = 13.67382050\n",
      "epoch 11: w = 1.425, loss = 0.59571403\n",
      "epoch 21: w = 1.573, loss = 0.24327002\n",
      "epoch 31: w = 1.606, loss = 0.22088894\n",
      "epoch 41: w = 1.621, loss = 0.20781927\n",
      "epoch 51: w = 1.633, loss = 0.19571762\n",
      "epoch 61: w = 1.644, loss = 0.18432567\n",
      "epoch 71: w = 1.654, loss = 0.17359692\n",
      "epoch 81: w = 1.664, loss = 0.16349272\n",
      "epoch 91: w = 1.674, loss = 0.15397660\n",
      "Prediction after training: f(5) = 9.347\n"
     ]
    }
   ],
   "source": [
    "X_test = torch.tensor([5], dtype=torch.float32)\n",
    "print(f'Prediction before training: f(5) = {model(X_test).item():.3f}')\n",
    "\n",
    "# Training\n",
    "learning_rate = 0.01\n",
    "n_iters = 100\n",
    "\n",
    "loss = nn.MSELoss() # pytorch Mean Square Error\n",
    "optimizer = torch.optim.SGD(model.parameters(), lr=learning_rate)   # Stocastic Gradient Descent: optimizer할 model parameter, learning_rate 전달\n",
    "\n",
    "for epoch in range(n_iters):\n",
    "    # Prediction (== forward pass)\n",
    "    # y_pred = forward(X)\n",
    "    y_pred = model(X)\n",
    "    \n",
    "    # loss\n",
    "    l = loss(y, y_pred)\n",
    "\n",
    "    # Calculate gradients(== backward pass)\n",
    "    l.backward()    # Calculate dl/dw\n",
    "\n",
    "    # Update weights (Gradient Descent)\n",
    "    # with torch.no_grad():\n",
    "    #     w -= learning_rate * w.grad     # w의 gradient에 learning rate 곱해서 빼는 것 (==gradient descent)\n",
    "    optimizer.step()\n",
    "    \n",
    "    # zero gradient\n",
    "    # w.grad.zero_()\n",
    "    optimizer.zero_grad()\n",
    "    if epoch % 10 == 0:\n",
    "        [w, b] = model.parameters()\n",
    "        print(f'epoch {epoch+1}: w = {w[0][0].item():.3f}, loss = {l:.8f}')\n",
    "\n",
    "print(f'Prediction after training: f(5) = {model(X_test).item():.3f}')"
   ]
  }
 ],
 "metadata": {
  "kernelspec": {
   "display_name": "Python 3.8.13 ('pt_tutorial')",
   "language": "python",
   "name": "python3"
  },
  "language_info": {
   "codemirror_mode": {
    "name": "ipython",
    "version": 3
   },
   "file_extension": ".py",
   "mimetype": "text/x-python",
   "name": "python",
   "nbconvert_exporter": "python",
   "pygments_lexer": "ipython3",
   "version": "3.8.13"
  },
  "orig_nbformat": 4,
  "vscode": {
   "interpreter": {
    "hash": "9056d81a49322299aa21888e3051b56329f6cabafb6903cd933669cf0492c109"
   }
  }
 },
 "nbformat": 4,
 "nbformat_minor": 2
}
