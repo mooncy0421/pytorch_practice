{
 "cells": [
  {
   "cell_type": "markdown",
   "metadata": {},
   "source": [
    "# CIFAR-10 CNN\n",
    "\n",
    "**Convolution Neural Network**<br>\n",
    "보통 이미지 데이터에 사용<br>\n",
    "Convolutional Filter를 이미지에 적용해서 이미지로부터 feature 학습함"
   ]
  },
  {
   "cell_type": "code",
   "execution_count": 1,
   "metadata": {},
   "outputs": [],
   "source": [
    "import torch\n",
    "import torch.nn as nn\n",
    "import torch.nn.functional as F\n",
    "import torchvision\n",
    "import torchvision.transforms as transforms\n",
    "import matplotlib.pyplot as plt\n",
    "import numpy as np\n",
    "\n",
    "# Device Configuration\n",
    "device = torch.device('cuda' if torch.cuda.is_available() else 'cpu')\n",
    "\n",
    "# Hyperparameters\n",
    "num_epochs = 4\n",
    "batch_size = 4\n",
    "learning_rate = 0.001"
   ]
  },
  {
   "cell_type": "code",
   "execution_count": 2,
   "metadata": {},
   "outputs": [
    {
     "name": "stdout",
     "output_type": "stream",
     "text": [
      "Downloading https://www.cs.toronto.edu/~kriz/cifar-10-python.tar.gz to ./data\\cifar-10-python.tar.gz\n"
     ]
    },
    {
     "name": "stderr",
     "output_type": "stream",
     "text": [
      "100.0%\n"
     ]
    },
    {
     "name": "stdout",
     "output_type": "stream",
     "text": [
      "Extracting ./data\\cifar-10-python.tar.gz to ./data\n",
      "Files already downloaded and verified\n"
     ]
    }
   ],
   "source": [
    "# Load Dataset\n",
    "# CIFAR-10: PILImage images of range [0,1]\n",
    "# Transform images to Tensor of normalized range [-1,1]\n",
    "transform = transforms.Compose(\n",
    "    [transforms.ToTensor(),\n",
    "    transforms.Normalize((0.5, 0.5, 0.5), (0.5, 0.5, 0.5))]\n",
    ")\n",
    "\n",
    "train_dataset = torchvision.datasets.CIFAR10(root='./data', train=True, download=True, transform=transform)\n",
    "test_dataset = torchvision.datasets.CIFAR10(root='./data', train=False, download=True, transform=transform)\n",
    "\n",
    "train_loader = torch.utils.data.DataLoader(train_dataset, batch_size=batch_size, shuffle=True)\n",
    "test_loader = torch.utils.data.DataLoader(test_dataset, batch_size=batch_size, shuffle=False)\n",
    "\n",
    "classes = ('plane', 'car', 'bird', 'cat', 'deer', 'dog', 'frog', 'horse', 'ship', 'truck')"
   ]
  },
  {
   "cell_type": "code",
   "execution_count": 10,
   "metadata": {},
   "outputs": [],
   "source": [
    "# Implement Convolutional Neural Net\n",
    "class ConvNet(nn.Module):\n",
    "    def __init__(self):\n",
    "        super(ConvNet, self).__init__()\n",
    "        # Input -> [Conv -> ReLU -> Pooling]*n -> Flatten -> FC layer -> Softmax\n",
    "        # input size: batch_size * 3 * 32*32\n",
    "        self.conv1 = nn.Conv2d(in_channels=3, out_channels=6, kernel_size=5)    # output size: 6*28*28\n",
    "        self.pool = nn.MaxPool2d(kernel_size=2, stride=2)   # 2x2 Max Pool      # output size: 6*14*14\n",
    "        self.conv2 = nn.Conv2d(in_channels=6, out_channels=16, kernel_size=5)   # output size: 16*10*10 | 이후 pooling layer 거쳐야되기에 output size: 16*5*5\n",
    "        self.fc1 = nn.Linear(in_features=16*5*5, out_features=120)  # in_features=16*5*5 고정 (이전에 들어오는 입력 크기가 16*5*5이기 때문)\n",
    "        self.fc2 = nn.Linear(in_features=120, out_features=84)\n",
    "        self.fc3 = nn.Linear(in_features=84, out_features=10)   # Class 10개라서 out_features=10 고정\n",
    "        self.relu = nn.ReLU()\n",
    "    \n",
    "    def forward(self, x):\n",
    "        out = self.relu(self.conv1(x))\n",
    "        out = self.pool(out) \n",
    "        out = self.relu(self.conv2(out))\n",
    "        out = self.pool(out)\n",
    "\n",
    "        out = out.view(-1, 16*5*5)\n",
    "        out = self.relu(self.fc1(out))\n",
    "        out = self.relu(self.fc2(out))\n",
    "        out = self.fc3(out)\n",
    "        return out"
   ]
  },
  {
   "cell_type": "code",
   "execution_count": 16,
   "metadata": {},
   "outputs": [
    {
     "name": "stdout",
     "output_type": "stream",
     "text": [
      "Epoch [1 / 4] | Step [2000 / 12500] | Loss: 2.3017\n",
      "Epoch [1 / 4] | Step [4000 / 12500] | Loss: 2.2803\n",
      "Epoch [1 / 4] | Step [6000 / 12500] | Loss: 2.2725\n",
      "Epoch [1 / 4] | Step [8000 / 12500] | Loss: 2.2688\n",
      "Epoch [1 / 4] | Step [10000 / 12500] | Loss: 2.2270\n",
      "Epoch [1 / 4] | Step [12000 / 12500] | Loss: 2.3173\n",
      "Epoch [2 / 4] | Step [2000 / 12500] | Loss: 1.4752\n",
      "Epoch [2 / 4] | Step [4000 / 12500] | Loss: 2.5766\n",
      "Epoch [2 / 4] | Step [6000 / 12500] | Loss: 2.0298\n",
      "Epoch [2 / 4] | Step [8000 / 12500] | Loss: 1.9826\n",
      "Epoch [2 / 4] | Step [10000 / 12500] | Loss: 1.8217\n",
      "Epoch [2 / 4] | Step [12000 / 12500] | Loss: 2.1461\n",
      "Epoch [3 / 4] | Step [2000 / 12500] | Loss: 1.3657\n",
      "Epoch [3 / 4] | Step [4000 / 12500] | Loss: 2.0271\n",
      "Epoch [3 / 4] | Step [6000 / 12500] | Loss: 2.0997\n",
      "Epoch [3 / 4] | Step [8000 / 12500] | Loss: 1.2921\n",
      "Epoch [3 / 4] | Step [10000 / 12500] | Loss: 1.6974\n",
      "Epoch [3 / 4] | Step [12000 / 12500] | Loss: 1.5345\n",
      "Epoch [4 / 4] | Step [2000 / 12500] | Loss: 1.5041\n",
      "Epoch [4 / 4] | Step [4000 / 12500] | Loss: 1.1499\n",
      "Epoch [4 / 4] | Step [6000 / 12500] | Loss: 1.7461\n",
      "Epoch [4 / 4] | Step [8000 / 12500] | Loss: 1.2699\n",
      "Epoch [4 / 4] | Step [10000 / 12500] | Loss: 1.5403\n",
      "Epoch [4 / 4] | Step [12000 / 12500] | Loss: 0.9242\n",
      "Training Done!\n",
      "Accuracy of CNN: 44.41 %\n",
      "Accuracy of plane: 55.8 %\n",
      "Accuracy of car: 59.8 %\n",
      "Accuracy of bird: 21.2 %\n",
      "Accuracy of cat: 20.5 %\n",
      "Accuracy of deer: 33.8 %\n",
      "Accuracy of dog: 41.4 %\n",
      "Accuracy of frog: 60.4 %\n",
      "Accuracy of horse: 48.8 %\n",
      "Accuracy of ship: 48.6 %\n",
      "Accuracy of truck: 53.8 %\n"
     ]
    }
   ],
   "source": [
    "model = ConvNet()\n",
    "\n",
    "criterion = nn.CrossEntropyLoss()\n",
    "optimizer = torch.optim.SGD(model.parameters(), lr=learning_rate)\n",
    "\n",
    "# Training Loop\n",
    "num_total_steps = len(train_loader)\n",
    "for epoch in range(num_epochs):\n",
    "    for i, (images, labels) in enumerate(train_loader):\n",
    "        # Reshape [4,3,32,32] --> [4,3,1024]\n",
    "        # Input layer: 3 Input channels     | 6 output channels |   5 kernel size\n",
    "        images = images.to(device)\n",
    "        labels = labels.to(device)\n",
    "\n",
    "        outputs = model(images)\n",
    "        loss = criterion(outputs, labels)\n",
    "\n",
    "        loss.backward()\n",
    "        optimizer.step()\n",
    "        optimizer.zero_grad()\n",
    "\n",
    "        if (i+1) % 2000 == 0:\n",
    "            print(f'Epoch [{epoch+1} / {num_epochs}] | Step [{i+1} / {num_total_steps}] | Loss: {loss.item():.4f}')\n",
    "print(\"Training Done!\")\n",
    "\n",
    "# Evaluation\n",
    "with torch.no_grad():\n",
    "    num_correct = 0\n",
    "    num_samples = 0\n",
    "    num_class_correct = [0 for i in range(10)]  # CIFAR-10: 10 classes\n",
    "    num_class_samples = [0 for i in range(10)]\n",
    "\n",
    "    for images, labels in test_loader:\n",
    "        images = images.to(device)\n",
    "        labels = labels.to(device)\n",
    "        outputs = model(images)\n",
    "        \n",
    "        _, predictions = torch.max(outputs, 1)\n",
    "        num_samples += labels.size(0)\n",
    "        num_correct += (predictions == labels).sum().item()\n",
    "\n",
    "        for i in range(batch_size):\n",
    "            label = labels[i]\n",
    "            pred = predictions[i]\n",
    "            if (label == pred):\n",
    "                num_class_correct[label] += 1\n",
    "            num_class_samples[label] += 1\n",
    "    acc = 100.0 * num_correct / num_samples\n",
    "    print(f'Accuracy of CNN: {acc} %')\n",
    "\n",
    "    for i in range(10):\n",
    "        acc = 100.0 * num_class_correct[i] / num_class_samples[i]\n",
    "        print(f'Accuracy of {classes[i]}: {acc} %')"
   ]
  },
  {
   "cell_type": "code",
   "execution_count": null,
   "metadata": {},
   "outputs": [],
   "source": []
  }
 ],
 "metadata": {
  "kernelspec": {
   "display_name": "Python 3.8.13 ('pt_tutorial')",
   "language": "python",
   "name": "python3"
  },
  "language_info": {
   "codemirror_mode": {
    "name": "ipython",
    "version": 3
   },
   "file_extension": ".py",
   "mimetype": "text/x-python",
   "name": "python",
   "nbconvert_exporter": "python",
   "pygments_lexer": "ipython3",
   "version": "3.8.13"
  },
  "orig_nbformat": 4,
  "vscode": {
   "interpreter": {
    "hash": "9056d81a49322299aa21888e3051b56329f6cabafb6903cd933669cf0492c109"
   }
  }
 },
 "nbformat": 4,
 "nbformat_minor": 2
}
